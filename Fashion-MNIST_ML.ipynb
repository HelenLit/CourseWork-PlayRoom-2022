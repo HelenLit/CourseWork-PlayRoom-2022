{
  "nbformat": 4,
  "nbformat_minor": 0,
  "metadata": {
    "colab": {
      "provenance": [],
      "authorship_tag": "ABX9TyOwHgkPOkVIwjRo3Ma5SRgc",
      "include_colab_link": true
    },
    "kernelspec": {
      "name": "python3",
      "display_name": "Python 3"
    },
    "language_info": {
      "name": "python"
    }
  },
  "cells": [
    {
      "cell_type": "markdown",
      "metadata": {
        "id": "view-in-github",
        "colab_type": "text"
      },
      "source": [
        "<a href=\"https://colab.research.google.com/github/HelenLit/CourseWork-PlayRoom-2022/blob/master/Fashion-MNIST_ML.ipynb\" target=\"_parent\"><img src=\"https://colab.research.google.com/assets/colab-badge.svg\" alt=\"Open In Colab\"/></a>"
      ]
    },
    {
      "cell_type": "code",
      "execution_count": null,
      "metadata": {
        "colab": {
          "base_uri": "https://localhost:8080/"
        },
        "id": "pbyvXotLNM8z",
        "outputId": "736bc3ce-f13e-4a17-c456-82fa60427586"
      },
      "outputs": [
        {
          "output_type": "stream",
          "name": "stdout",
          "text": [
            "2.12.0\n"
          ]
        }
      ],
      "source": [
        "import tensorflow as tf\n",
        "\n",
        "print(tf.__version__)"
      ]
    },
    {
      "cell_type": "code",
      "source": [
        "# Load the Fashion MNIST dataset\n",
        "fmnist = tf.keras.datasets.fashion_mnist"
      ],
      "metadata": {
        "id": "Ib2CN5qONaAT"
      },
      "execution_count": null,
      "outputs": []
    },
    {
      "cell_type": "code",
      "source": [
        "(training_images, training_labels), (test_images, test_labels) = fmnist.load_data()"
      ],
      "metadata": {
        "id": "1L3alZW4NnjD"
      },
      "execution_count": null,
      "outputs": []
    },
    {
      "cell_type": "code",
      "source": [
        "import numpy as np\n",
        "import matplotlib.pyplot as plt\n",
        "\n",
        "# You can put between 0 to 59999 here\n",
        "index = 30001\n",
        "\n",
        "# Set number of characters per row when printing\n",
        "np.set_printoptions(linewidth=320)\n",
        "\n",
        "# Print the label and image\n",
        "print(f'LABEL: {training_labels[index]}')\n",
        "print(f'\\nIMAGE PIXEL ARRAY:\\n {training_images[index]}')\n",
        "\n",
        "# Visualize the image\n",
        "plt.imshow(training_images[index])"
      ],
      "metadata": {
        "colab": {
          "base_uri": "https://localhost:8080/",
          "height": 986
        },
        "id": "vkeeRSN7QbKh",
        "outputId": "fe1d534d-0e29-4f29-9665-8ab20fadb220"
      },
      "execution_count": null,
      "outputs": [
        {
          "output_type": "stream",
          "name": "stdout",
          "text": [
            "LABEL: 3\n",
            "\n",
            "IMAGE PIXEL ARRAY:\n",
            " [[  0   0   0   0   0   0   0   3   0  23  87   0   3   1   4   0  19  95   0   0   0   0   0   0   0   0   0   0]\n",
            " [  0   0   0   0   0   0   0   3   0  75 153   8   0   0   0   0  90 149   8   0   1   0   0   0   0   0   0   0]\n",
            " [  0   0   0   0   0   0   0   4   0  62 129 118  46   3   3  74 121 116  11   0   1   0   0   0   0   0   0   0]\n",
            " [  0   0   0   0   0   0   0   4   0  69 118 108 126 125 129 125 108 115  13   0   1   0   0   0   0   0   0   0]\n",
            " [  0   0   0   0   0   0   0   4   0  64 113  90  93  97  95  95 102 123  16   0   1   0   0   0   0   0   0   0]\n",
            " [  0   0   0   0   0   0   0   3   0  59 115  92  92  90  98  97  93 116  18   0   3   0   0   0   0   0   0   0]\n",
            " [  0   0   0   0   0   0   0   4   0  49 121  88  90  90  90  92  85 123  19   0   1   0   0   0   0   0   0   0]\n",
            " [  0   0   0   0   0   0   0   4   0  42 143  93  92  88  87  88  85 116  11   0   1   0   0   0   0   0   0   0]\n",
            " [  0   0   0   0   0   0   0   3   0  46 133  87  85  82  83  85  78 113   8   0   3   0   0   0   0   0   0   0]\n",
            " [  0   0   0   0   0   0   0   3   0  46 138  85  87  82  85  83  75 111   9   0   3   1   0   0   0   0   0   0]\n",
            " [  0   0   0   0   0   0   0   3   0  49 141  82  83  77  75  74  72 100  21   0   1   0   0   0   0   0   0   0]\n",
            " [  0   0   0   0   0   0   0   4   0  31 141  93 111 120 129 128 111 115  37   0   4   0   0   0   0   0   0   0]\n",
            " [  0   0   0   0   0   1   0   1   0 105 151 143 166 148 149 148 149 148 125   0   0   1   0   0   0   0   0   0]\n",
            " [  0   0   0   0   0   1   3   0  34 171 156 177 185 166 164 171 185 162 166  52   0   4   0   0   0   0   0   0]\n",
            " [  0   0   0   0   0   0   1   0 126 180 154 174 179 185 162 169 180 166 161 136   0   3   0   0   0   0   0   0]\n",
            " [  0   0   0   0   0   1   0   3 199 162 161 171 172 172 159 179 167 169 169 174   1   0   1   0   0   0   0   0]\n",
            " [  0   0   0   0   0   3   0  59 185 153 177 172 169 157 154 195 182 171 172 167  54   0   4   0   0   0   0   0]\n",
            " [  0   0   0   0   0   1   0 133 177 148 180 174 174 161 159 200 182 156 182 171 134   0   3   0   0   0   0   0]\n",
            " [  0   0   0   0   0   0   0 184 172 161 187 179 171 172 174 185 185 143 189 167 185   0   0   0   0   0   0   0]\n",
            " [  0   0   0   0   0   0  36 177 164 164 195 192 169 195 177 184 190 143 189 171 171  57   0   0   0   0   0   0]\n",
            " [  0   0   0   0   0   0  93 184 156 167 190 212 161 200 182 187 200 149 180 177 169 120   0   0   0   0   0   0]\n",
            " [  0   0   0   0   0   0 131 185 151 180 189 227 153 202 190 179 199 161 172 195 162 166   0   0   0   0   0   0]\n",
            " [  0   0   0   0   0   0 166 187 157 184 182 238 156 207 192 189 207 176 177 208 153 192   1   0   0   0   0   0]\n",
            " [  0   0   0   0   0  13 194 184 159 192 179 245 151 212 192 195 212 185 176 210 159 204  46   0   0   0   0   0]\n",
            " [  0   0   0   0   0  36 177 176 161 190 177 243 138 212 187 199 212 192 169 215 171 195  85   0   0   0   0   0]\n",
            " [  0   0   0   0   0  69 190 171 182 190 185 250 138 220 190 197 210 202 187 204 169 174 115   0   0   0   0   0]\n",
            " [  0   0   0   0   0  60 192 126 182 157 189 255 126 231 189 192 233 207 197 192 166 172 134   0   0   0   0   0]\n",
            " [  0   0   0   0   0   0  47  37  46  74 121 141  87 138  93  75 133  98 111  82  39  24   0   0   0   0   0   0]]\n"
          ]
        },
        {
          "output_type": "execute_result",
          "data": {
            "text/plain": [
              "<matplotlib.image.AxesImage at 0x7a4324642fb0>"
            ]
          },
          "metadata": {},
          "execution_count": 42
        },
        {
          "output_type": "display_data",
          "data": {
            "text/plain": [
              "<Figure size 640x480 with 1 Axes>"
            ],
            "image/png": "[encoded data removed]"
          },
          "metadata": {}
        }
      ]
    },
    {
      "cell_type": "code",
      "source": [
        "# Normalize the pixel values of the train and test images\n",
        "training_images  = training_images / 255.0\n",
        "test_images = test_images / 255.0"
      ],
      "metadata": {
        "id": "Ur9am0HqQvdS"
      },
      "execution_count": null,
      "outputs": []
    },
    {
      "cell_type": "code",
      "source": [
        "class myCallback(tf.keras.callbacks.Callback):\n",
        "  def on_epoch_end(self, epoch, logs={}):\n",
        "    # Check the loss\n",
        "    if(logs.get('loss') < 0.4):\n",
        "      # Stop if threshold is met\n",
        "      print(\"\\nLoss is lower than 0.4 so cancelling training!\")\n",
        "      self.model.stop_training = True\n",
        "\n",
        "# Instantiate class\n",
        "myCallback = myCallback()"
      ],
      "metadata": {
        "id": "B3wH8HPLw_Va"
      },
      "execution_count": null,
      "outputs": []
    },
    {
      "cell_type": "code",
      "source": [
        "# Build the classification model\n",
        "model = tf.keras.models.Sequential([tf.keras.layers.Flatten(input_shape=(28, 28)),\n",
        "                                    tf.keras.layers.Dense(512, activation=tf.nn.relu),\n",
        "                                    tf.keras.layers.Dense(10, activation=tf.nn.softmax)])"
      ],
      "metadata": {
        "id": "i76W50gFRAWl"
      },
      "execution_count": null,
      "outputs": []
    },
    {
      "cell_type": "code",
      "source": [
        "model.compile(optimizer = tf.optimizers.Adam(),\n",
        "              loss = 'sparse_categorical_crossentropy',\n",
        "              metrics=['accuracy'])"
      ],
      "metadata": {
        "id": "tRk_dwogRPrT"
      },
      "execution_count": null,
      "outputs": []
    },
    {
      "cell_type": "code",
      "source": [
        "model.fit(training_images, training_labels, epochs=10, callbacks=myCallback)\n",
        "#Usually 2 epoch is enough"
      ],
      "metadata": {
        "colab": {
          "base_uri": "https://localhost:8080/"
        },
        "id": "FMwRjkFbxuYn",
        "outputId": "2d9e132d-1083-432e-d8d0-36e7dbbcc2c7"
      },
      "execution_count": null,
      "outputs": [
        {
          "output_type": "stream",
          "name": "stdout",
          "text": [
            "Epoch 1/10\n",
            "1875/1875 [==============================] - 16s 8ms/step - loss: 0.4784 - accuracy: 0.8299\n",
            "Epoch 2/10\n",
            "1872/1875 [============================>.] - ETA: 0s - loss: 0.3615 - accuracy: 0.8673\n",
            "Loss is lower than 0.4 so cancelling training!\n",
            "1875/1875 [==============================] - 18s 10ms/step - loss: 0.3618 - accuracy: 0.8673\n"
          ]
        },
        {
          "output_type": "execute_result",
          "data": {
            "text/plain": [
              "<keras.callbacks.History at 0x7a432b823610>"
            ]
          },
          "metadata": {},
          "execution_count": 48
        }
      ]
    },
    {
      "cell_type": "code",
      "source": [
        "# Evaluate the model on unseen data\n",
        "model.evaluate(test_images, test_labels)"
      ],
      "metadata": {
        "colab": {
          "base_uri": "https://localhost:8080/"
        },
        "id": "muIyNvuaSnfm",
        "outputId": "9cb16881-eb08-451b-d915-8b8745f910bd"
      },
      "execution_count": null,
      "outputs": [
        {
          "output_type": "stream",
          "name": "stdout",
          "text": [
            "313/313 [==============================] - 1s 3ms/step - loss: 0.3639 - accuracy: 0.8684\n"
          ]
        },
        {
          "output_type": "execute_result",
          "data": {
            "text/plain": [
              "[0.363935261964798, 0.868399977684021]"
            ]
          },
          "metadata": {},
          "execution_count": 50
        }
      ]
    },
    {
      "cell_type": "code",
      "source": [
        "classifications = model.predict(test_images)\n",
        "\n",
        "print(classifications[0])"
      ],
      "metadata": {
        "colab": {
          "base_uri": "https://localhost:8080/"
        },
        "id": "eo-W4rZtTMoD",
        "outputId": "0bf378a7-1c8a-415f-a0fc-5674333aa5b3"
      },
      "execution_count": null,
      "outputs": [
        {
          "output_type": "stream",
          "name": "stdout",
          "text": [
            "313/313 [==============================] - 1s 3ms/step\n",
            "[6.5106753e-05 5.5902183e-07 4.3589948e-06 2.8398691e-07 6.9751131e-06 7.4122101e-02 2.5161071e-05 3.3296995e-02 1.2878648e-03 8.9119059e-01]\n"
          ]
        }
      ]
    },
    {
      "cell_type": "code",
      "source": [
        "print(test_labels[0])"
      ],
      "metadata": {
        "colab": {
          "base_uri": "https://localhost:8080/"
        },
        "id": "4MQbf_iFTmQA",
        "outputId": "a78ca5c8-1577-4543-e858-877c6f225b55"
      },
      "execution_count": null,
      "outputs": [
        {
          "output_type": "stream",
          "name": "stdout",
          "text": [
            "9\n"
          ]
        }
      ]
    }
  ]
}